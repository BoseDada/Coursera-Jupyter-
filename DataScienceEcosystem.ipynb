{
 "cells": [
  {
   "cell_type": "markdown",
   "id": "9db1bff2-e234-4495-a917-025ea85589c2",
   "metadata": {},
   "source": [
    "# Data Science Tools and Ecosystem"
   ]
  },
  {
   "cell_type": "markdown",
   "id": "1dd0eff7-c657-41c7-9ea4-024bac543b5d",
   "metadata": {},
   "source": [
    "In this notebook, Data Science tools and Ecosystem are summarized."
   ]
  },
  {
   "cell_type": "markdown",
   "id": "326d7b63-e8d7-439c-896d-4d2f069c8f06",
   "metadata": {},
   "source": [
    "**Objectives:**\n",
    "- Popular Languages in Data Science.\n",
    "- Popular Libraries in Data Science.\n",
    "- Creating tables in Jupyter Notebook.\n",
    "- Performing basic arithmetic operations."
   ]
  },
  {
   "cell_type": "markdown",
   "id": "b9cde065-bcdc-4900-83e9-2d5ee5086d01",
   "metadata": {},
   "source": [
    "Some of the popular languages that Data Scientists use are:\n",
    "1. Python\n",
    "2. R\n",
    "3. SQL"
   ]
  },
  {
   "cell_type": "markdown",
   "id": "77329728-e212-4731-85a3-8bfcd3e79ddd",
   "metadata": {},
   "source": [
    "Some of the commonly used libraries used by Data Scientists include:\n",
    "1. Numpy\n",
    "2. Pandas\n",
    "3. Matplotlib"
   ]
  },
  {
   "cell_type": "markdown",
   "id": "7e928317-525d-41a3-a6ac-c3da4b4718e9",
   "metadata": {},
   "source": [
    "| Data Science Tools |\n",
    "|--------------------|\n",
    "| Jupyter Notebook   |\n",
    "| Apache Hadoop      |\n",
    "| MATLAB             |"
   ]
  },
  {
   "cell_type": "markdown",
   "id": "d7ffd1e0-8574-4b3b-9212-f1607c0c0aa5",
   "metadata": {
    "tags": []
   },
   "source": [
    "### Below are a few examples evaluating arithmetic expressions in Python."
   ]
  },
  {
   "cell_type": "code",
   "execution_count": 1,
   "id": "02fcbbdc-a109-46dc-9c00-36c808a9419a",
   "metadata": {},
   "outputs": [
    {
     "name": "stdout",
     "output_type": "stream",
     "text": [
      "17\n"
     ]
    }
   ],
   "source": [
    "#This is a simple arithmetic expression to multiply then add integers. \n",
    "print((3*4)+5)"
   ]
  },
  {
   "cell_type": "code",
   "execution_count": 2,
   "id": "072037d9-6d1f-457f-a5da-3b7274d0e59f",
   "metadata": {},
   "outputs": [
    {
     "name": "stdout",
     "output_type": "stream",
     "text": [
      "3.3333333333333335\n"
     ]
    }
   ],
   "source": [
    "#This will convert 200 minutes to hours by dividing by 60\n",
    "print(200/60)"
   ]
  },
  {
   "cell_type": "markdown",
   "id": "d476f26b-5ab1-4f5f-924a-2b8dbb03f82d",
   "metadata": {},
   "source": [
    "## Author\n",
    "Adyot Bose"
   ]
  }
 ],
 "metadata": {
  "kernelspec": {
   "display_name": "Python",
   "language": "python",
   "name": "conda-env-python-py"
  },
  "language_info": {
   "codemirror_mode": {
    "name": "ipython",
    "version": 3
   },
   "file_extension": ".py",
   "mimetype": "text/x-python",
   "name": "python",
   "nbconvert_exporter": "python",
   "pygments_lexer": "ipython3",
   "version": "3.7.12"
  }
 },
 "nbformat": 4,
 "nbformat_minor": 5
}
